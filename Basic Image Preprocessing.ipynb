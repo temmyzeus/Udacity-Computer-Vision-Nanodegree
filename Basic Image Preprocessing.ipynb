{
 "cells": [
  {
   "cell_type": "code",
   "execution_count": 1,
   "metadata": {},
   "outputs": [],
   "source": [
    "import numpy as np\n",
    "import pandas as pd\n",
    "import matplotlib.image as mpimg\n",
    "import matplotlib.pyplot as plt\n",
    "import cv2\n",
    "%matplotlib qt"
   ]
  },
  {
   "cell_type": "code",
   "execution_count": 2,
   "metadata": {},
   "outputs": [],
   "source": [
    "#Creat a variable of our image path\n",
    "IMAGE = \"images/ajnjnkvstqesvfohaptobyasrkmcnq.jpg\""
   ]
  },
  {
   "cell_type": "code",
   "execution_count": 3,
   "metadata": {},
   "outputs": [
    {
     "name": "stdout",
     "output_type": "stream",
     "text": [
      "Image Dimensions: (582, 870, 3)\n"
     ]
    }
   ],
   "source": [
    "image_vectors = mpimg.imread(IMAGE)#Read image with matplotlib image  with reads am=n image in RBG Format\n",
    "print(\"Image Dimensions:\",image_vectors.shape)#Check the Shape of the Image"
   ]
  },
  {
   "cell_type": "code",
   "execution_count": 4,
   "metadata": {},
   "outputs": [
    {
     "data": {
      "text/plain": [
       "array([[[ 30, 108,  66],\n",
       "        [ 29, 110,  69],\n",
       "        [ 30, 108,  68],\n",
       "        ...,\n",
       "        [208, 140,  79],\n",
       "        [200, 139,  82],\n",
       "        [197, 142,  86]],\n",
       "\n",
       "       [[ 30, 106,  67],\n",
       "        [ 29, 105,  66],\n",
       "        [ 29, 107,  67],\n",
       "        ...,\n",
       "        [210, 140,  78],\n",
       "        [202, 141,  84],\n",
       "        [197, 142,  86]],\n",
       "\n",
       "       [[ 28, 106,  66],\n",
       "        [ 26, 102,  63],\n",
       "        [ 27, 103,  64],\n",
       "        ...,\n",
       "        [210, 142,  81],\n",
       "        [204, 142,  85],\n",
       "        [201, 141,  89]],\n",
       "\n",
       "       ...,\n",
       "\n",
       "       [[175, 128, 108],\n",
       "        [171, 124, 104],\n",
       "        [171, 124, 106],\n",
       "        ...,\n",
       "        [161, 125, 103],\n",
       "        [159, 123, 101],\n",
       "        [158, 122, 100]],\n",
       "\n",
       "       [[175, 128, 108],\n",
       "        [173, 126, 106],\n",
       "        [174, 127, 107],\n",
       "        ...,\n",
       "        [160, 124, 102],\n",
       "        [156, 120,  98],\n",
       "        [155, 117,  96]],\n",
       "\n",
       "       [[176, 129, 109],\n",
       "        [175, 128, 108],\n",
       "        [175, 128, 108],\n",
       "        ...,\n",
       "        [159, 124, 102],\n",
       "        [154, 118,  96],\n",
       "        [151, 113,  92]]], dtype=uint8)"
      ]
     },
     "execution_count": 4,
     "metadata": {},
     "output_type": "execute_result"
    }
   ],
   "source": [
    "image_vectors"
   ]
  },
  {
   "cell_type": "code",
   "execution_count": 5,
   "metadata": {},
   "outputs": [],
   "source": [
    "image_vectors = image_vectors/255 #Scaling of 255 should only be sued on grayscale images like the mnist dataset\n",
    "#Scaling this image(A Color Image) by dividing by 225 is a wrong thing to do but I'm just experimenting"
   ]
  },
  {
   "cell_type": "code",
   "execution_count": 6,
   "metadata": {},
   "outputs": [],
   "source": [
    "image_vectors = image_vectors.astype(np.float32)#Opencv reads image in 32-bits float so we convert it to that"
   ]
  },
  {
   "cell_type": "code",
   "execution_count": 7,
   "metadata": {},
   "outputs": [],
   "source": [
    "#convert imgea from colored to grayscale\n",
    "image_vectors = cv2.cvtColor(image_vectors , cv2.COLOR_BGR2RGB)#Just as good practice we convert an mage from BGR to RGB\n",
    "image_vectors = cv2.cvtColor(image_vectors , cv2.COLOR_RGB2GRAY)#Then Convert it to whatever format we want"
   ]
  },
  {
   "cell_type": "code",
   "execution_count": 8,
   "metadata": {},
   "outputs": [
    {
     "data": {
      "text/plain": [
       "(582, 870)"
      ]
     },
     "execution_count": 8,
     "metadata": {},
     "output_type": "execute_result"
    }
   ],
   "source": [
    "image_vectors.shape"
   ]
  },
  {
   "cell_type": "code",
   "execution_count": 9,
   "metadata": {},
   "outputs": [
    {
     "data": {
      "text/plain": [
       "array([[0.33941177, 0.34708628, 0.34175688, ..., 0.50789416, 0.5055334 ,\n",
       "        0.51578826],\n",
       "       [0.33598042, 0.33205882, 0.3378353 , ..., 0.50761575, 0.5133765 ,\n",
       "        0.51578826],\n",
       "       [0.33391374, 0.32029414, 0.3242157 , ..., 0.5157373 , 0.51774514,\n",
       "        0.51879215],\n",
       "       ...,\n",
       "       [0.49952158, 0.4838353 , 0.48618042, ..., 0.48049414, 0.472651  ,\n",
       "        0.46872944],\n",
       "       [0.49952158, 0.49167845, 0.49560001, ..., 0.47657257, 0.4608863 ,\n",
       "        0.45118827],\n",
       "       [0.5034432 , 0.49952158, 0.49952158, ..., 0.4761255 , 0.45304316,\n",
       "        0.435502  ]], dtype=float32)"
      ]
     },
     "execution_count": 9,
     "metadata": {},
     "output_type": "execute_result"
    }
   ],
   "source": [
    "image_vectors"
   ]
  },
  {
   "cell_type": "code",
   "execution_count": 10,
   "metadata": {},
   "outputs": [
    {
     "data": {
      "text/plain": [
       "<matplotlib.image.AxesImage at 0x7fc8381cf3a0>"
      ]
     },
     "execution_count": 10,
     "metadata": {},
     "output_type": "execute_result"
    }
   ],
   "source": [
    "plt.imshow(image_vectors)"
   ]
  },
  {
   "cell_type": "markdown",
   "metadata": {},
   "source": [
    "- Scaling doesn't affect how the image looks when we see it with our eyes"
   ]
  },
  {
   "cell_type": "code",
   "execution_count": 11,
   "metadata": {},
   "outputs": [
    {
     "data": {
      "text/plain": [
       "0.6445765"
      ]
     },
     "execution_count": 11,
     "metadata": {},
     "output_type": "execute_result"
    }
   ],
   "source": [
    "x = 190\n",
    "y = 100\n",
    "image_vectors[y,x]"
   ]
  }
 ],
 "metadata": {
  "kernelspec": {
   "display_name": "Python 3",
   "language": "python",
   "name": "python3"
  },
  "language_info": {
   "codemirror_mode": {
    "name": "ipython",
    "version": 3
   },
   "file_extension": ".py",
   "mimetype": "text/x-python",
   "name": "python",
   "nbconvert_exporter": "python",
   "pygments_lexer": "ipython3",
   "version": "3.8.3"
  }
 },
 "nbformat": 4,
 "nbformat_minor": 4
}
